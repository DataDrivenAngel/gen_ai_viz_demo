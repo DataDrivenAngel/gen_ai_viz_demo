{
 "cells": [
  {
   "cell_type": "markdown",
   "metadata": {},
   "source": [
    "# ControlNets: Stable Diffusion for accurate data viz generation"
   ]
  },
  {
   "cell_type": "code",
   "execution_count": 590,
   "metadata": {},
   "outputs": [],
   "source": [
    "import pandas as pd\n",
    "from plotnine import *\n",
    "from datetime import datetime\n",
    "\n",
    "\n",
    "chart_name = f\"chart_{datetime.utcnow()}.png\"\n",
    "chart_name_output = f\"chart_{datetime.utcnow()}_output.png\""
   ]
  },
  {
   "cell_type": "code",
   "execution_count": 591,
   "metadata": {},
   "outputs": [],
   "source": [
    "# Create sample data\n",
    "data = pd.DataFrame({\n",
    "'category': ['1980s', '1990s', '2000s', '2010s', '2020s'],\n",
    "'value': [8, 23, 25, 35, 15],\n",
    "'group': ['Early Career', 'Peak Mainstream', 'Peak Mainstream', 'Independent Era', 'Renaissance']\n",
    "})"
   ]
  },
  {
   "cell_type": "code",
   "execution_count": 592,
   "metadata": {},
   "outputs": [],
   "source": [
    "base_plot = (ggplot(data, aes(x='category', y='value', fill='group'))\n",
    " + geom_bar(stat='identity', position='dodge', width=0.8, fill='white', color='black')\n",
    " + theme_minimal()\n",
    " + theme(\n",
    "     figure_size=(10, 6),\n",
    "     panel_grid=element_blank(),\n",
    "\n",
    "        axis_text=element_text(size=6, alpha = 0),\n",
    "        axis_title=element_text(size=10, alpha = 0),\n",
    "        plot_title=element_text(size=8, face='bold', alpha = 0),\n",
    " ))\n"
   ]
  },
  {
   "cell_type": "code",
   "execution_count": null,
   "metadata": {},
   "outputs": [],
   "source": [
    "\n",
    "text_only = (ggplot(data, aes(x='category', y='value', fill='group'))\n",
    "    +theme_minimal()\n",
    "        + labs(\n",
    "    title='Bar Chart',\n",
    "    x=' Legible Text ',\n",
    "    y=' Y Axis ')\n",
    "    +theme(\n",
    "        figure_size=(10, 6),\n",
    "        panel_grid=element_blank(),\n",
    "        axis_text=element_text(size=6),\n",
    "        axis_title=element_text(size=10,alpha=0),\n",
    "        plot_title=element_text(size=8, face='bold',hjust = 0,alpha=0),\n",
    "        panel_background=element_rect(fill='none'),\n",
    "        plot_background=element_rect(fill='none'),\n",
    "        \n",
    "        \n",
    "\n",
    "    ) + scale_y_continuous(limits=[0, max(data['value'])])\n",
    "\n",
    ")\n",
    "\n",
    "\n",
    "# Save separately\n",
    "base_plot.save(chart_name, dpi=300, width=512/300, height=512/300)\n",
    "text_only.save(\"text.png\", dpi=300, width=512/300, height=512/300)\n",
    "base_plot.save(\"chart.png\", dpi=300, width=512/300, height=512/300)"
   ]
  },
  {
   "cell_type": "code",
   "execution_count": 594,
   "metadata": {},
   "outputs": [],
   "source": [
    "# IMPORT API KEY FROM .ENV CONFIGURATION FILE\n",
    "\n",
    "from dotenv import load_dotenv\n",
    "load_dotenv()\n",
    "import replicate\n",
    "\n",
    "## This requires a \".env\" file with  REPLICATE_API_TOKEN= ####\n",
    "## See replicate's documentation for how to set this up."
   ]
  },
  {
   "cell_type": "code",
   "execution_count": null,
   "metadata": {},
   "outputs": [],
   "source": [
    "import base64\n",
    "\n",
    "# Read the PNG file and convert to base64\n",
    "with open(chart_name, \"rb\") as image_file:\n",
    "    encoded_string = base64.b64encode(image_file.read()).decode('utf-8')\n",
    "\n",
    "# Create the URI\n",
    "uri = f\"data:image/png;base64,{encoded_string}\"\n",
    "\n",
    "# Optionally print or save the URI\n",
    "print(uri)"
   ]
  },
  {
   "cell_type": "code",
   "execution_count": 596,
   "metadata": {},
   "outputs": [],
   "source": [
    "prompt_beach = \"a bar chart made out of ocean waves with a beach in the background\"\n",
    "prompt_city = \"A bar chart made out of skyscrapers\"\n",
    "prompt_dc = \"A bar chart made out of washington monuments\"\n",
    "prompt_data = \"A bar chart graph where each bar chart is a database icon\"\n",
    "prompt_mario = \" A bar chart made out of THWOMPS from super mario. Each bar is a large stone covered in spikes with an angry face\"\n",
    "prompt_bus = \"a bar chart made of cartoon yellow school buses. Each bus must have wheels and windows. Cute. \"\n",
    "prompt_town = \"A bar chart made out of rowhouses and small office buildings\"\n",
    "prompt_ladders = \"A bar chart made out of construction ladders, styled as a game of chutes and ladders. game board style\"\n",
    "prompt_cheese = \"A bar chart made out of blocks of cheese and crackers on a wooden board. Delicious. Photoreal\"\n",
    "\n",
    "prompt_charts = \"a bar chart containing small line charts, with a large pie chart in the background\"\n",
    "prompt_lego = \"A bar chart of colorful large lego toys. Photography. High quality. Glossy. Real\"\n",
    "prompt_christmas = \"candycanes\"\n",
    "prompt_gifts = \"wrapped presents with colorful wrapping paper and bright ribbons and bows\"\n",
    "prompt_kitkat = \"candy bars with bite marks\"\n",
    "prompt_cake = \"lit birthday candles on a cake\"\n",
    "prompt_pipes = \"green mario pipes in super mario level 13. retro video game\""
   ]
  },
  {
   "cell_type": "markdown",
   "metadata": {},
   "source": []
  },
  {
   "cell_type": "code",
   "execution_count": null,
   "metadata": {},
   "outputs": [],
   "source": []
  },
  {
   "cell_type": "code",
   "execution_count": 597,
   "metadata": {},
   "outputs": [],
   "source": [
    "output = replicate.run(\n",
    "    \"rossjillian/controlnet:795433b19458d0f4fa172a7ccf93178d2adb1cb8ab2ad6c8fdc33fdbcd49f477\",\n",
    "    input={\n",
    "        \"eta\": 0,\n",
    "        \"seed\": 44,\n",
    "        \"image\": uri,\n",
    "        \"scale\": 9,\n",
    "        \"steps\": 50,\n",
    "        \"prompt\": \"nicolas cage colorful \",\n",
    "        \"scheduler\": \"DDIM\",\n",
    "        \"structure\": \"canny\",\n",
    "        \"num_outputs\": 1,\n",
    "        \"low_threshold\": 100,\n",
    "        \"high_threshold\": 200,\n",
    "        \"negative_prompt\": \" worst quality, low quality\",\n",
    "        \"image_resolution\": 512,\n",
    "        \"return_reference_image\": False\n",
    "    }\n",
    ")\n",
    "#print(output)\n",
    "with open(chart_name_output, 'wb') as f:\n",
    "    f.write(output[0].read())\n",
    "\n",
    "with open(f\"chart_output.png\", 'wb') as f:\n",
    "    f.write(output[0].read())"
   ]
  },
  {
   "cell_type": "code",
   "execution_count": 600,
   "metadata": {},
   "outputs": [],
   "source": [
    "with open(\"THE_CAGE.PNG\", 'wb') as f:\n",
    "    f.write(output[0].read())"
   ]
  },
  {
   "cell_type": "code",
   "execution_count": 602,
   "metadata": {},
   "outputs": [],
   "source": [
    "from PIL import Image\n",
    "\n",
    "\n",
    "def overlay_images(base_path, text_path, output_path):\n",
    "    base = Image.open(base_path)\n",
    "    text = Image.open(text_path).convert('RGBA')\n",
    "    \n",
    "    # Create transparency mask\n",
    "    r, g, b, a = text.split()\n",
    "    mask = Image.new('L', text.size, 255)\n",
    "    for x in range(text.width):\n",
    "        for y in range(text.height):\n",
    "            if r.getpixel((x, y)) > 250 and g.getpixel((x, y)) > 250 and b.getpixel((x, y)) > 250:\n",
    "                mask.putpixel((x, y), 0)\n",
    "    \n",
    "    # Apply mask and composite\n",
    "    text.putalpha(mask)\n",
    "    result = Image.alpha_composite(base.convert('RGBA'), text)\n",
    "    result.save(output_path, 'PNG')\n",
    "\n",
    "\n",
    "\n",
    "def concatenate_images(image1_path, image2_path, output_path):\n",
    "    \"\"\"\n",
    "    Concatenate two 512x512 images horizontally into a 1024x512 image\n",
    "    \n",
    "    Args:\n",
    "        image1_path (str): Path to first image\n",
    "        image2_path (str): Path to second image\n",
    "        output_path (str): Path where to save the resulting image\n",
    "    \"\"\"\n",
    "    # Open the images\n",
    "    img1 = Image.open(image1_path)\n",
    "    img2 = Image.open(image2_path)\n",
    "    \n",
    "    # Ensure both images are 512x512\n",
    "    img1 = img1.resize((512, 512))\n",
    "    img2 = img2.resize((512, 512))\n",
    "    \n",
    "    # Create a new blank image with the combined width\n",
    "    combined_width = img1.width + img2.width\n",
    "    combined_height = img1.height\n",
    "    \n",
    "    combined_image = Image.new('RGB', (combined_width, combined_height))\n",
    "    \n",
    "    # Paste the two images side by side\n",
    "    combined_image.paste(img1, (0, 0))\n",
    "    combined_image.paste(img2, (512, 0))\n",
    "    \n",
    "    # Save the result\n",
    "    combined_image.save(output_path, quality=95)\n",
    "    \n",
    "    return combined_image\n"
   ]
  },
  {
   "cell_type": "code",
   "execution_count": null,
   "metadata": {},
   "outputs": [],
   "source": [
    "overlay_images(chart_name_output, 'text.png', chart_name_output)\n",
    "overlay_images(chart_name, 'text.png', chart_name)\n",
    "concatenate_images(chart_name, chart_name_output, f\"combined_{chart_name_output}\")\n",
    "concatenate_images(chart_name, chart_name_output, f\"combined_output.png\")\n"
   ]
  },
  {
   "cell_type": "code",
   "execution_count": null,
   "metadata": {},
   "outputs": [],
   "source": []
  }
 ],
 "metadata": {
  "kernelspec": {
   "display_name": "Python 3",
   "language": "python",
   "name": "python3"
  },
  "language_info": {
   "codemirror_mode": {
    "name": "ipython",
    "version": 3
   },
   "file_extension": ".py",
   "mimetype": "text/x-python",
   "name": "python",
   "nbconvert_exporter": "python",
   "pygments_lexer": "ipython3",
   "version": "3.11.4"
  }
 },
 "nbformat": 4,
 "nbformat_minor": 2
}
